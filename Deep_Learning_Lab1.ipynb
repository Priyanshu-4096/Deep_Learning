{
 "cells": [
  {
   "cell_type": "code",
   "execution_count": 1,
   "id": "be14058b",
   "metadata": {},
   "outputs": [
    {
     "name": "stdout",
     "output_type": "stream",
     "text": [
      "Enter a number: 21\n",
      "The number 21 is Odd.\n"
     ]
    }
   ],
   "source": [
    "# Function to check if the number is odd or even\n",
    "def check_odd_even(number):\n",
    "    if number % 2 == 0:\n",
    "        return \"Even\"\n",
    "    else:\n",
    "        return \"Odd\"\n",
    "\n",
    "# Reading a number from the keyboard\n",
    "try:\n",
    "    number = int(input(\"Enter a number: \"))\n",
    "    result = check_odd_even(number)\n",
    "    print(f\"The number {number} is {result}.\")\n",
    "except ValueError:\n",
    "    print(\"Please enter a valid integer.\")\n"
   ]
  },
  {
   "cell_type": "code",
   "execution_count": 2,
   "id": "eff2c049",
   "metadata": {},
   "outputs": [
    {
     "name": "stdout",
     "output_type": "stream",
     "text": [
      "1/2 = 0.500000\n",
      "1/3 = 0.333333\n",
      "1/4 = 0.250000\n",
      "1/5 = 0.200000\n",
      "1/6 = 0.166667\n",
      "1/7 = 0.142857\n",
      "1/8 = 0.125000\n",
      "1/9 = 0.111111\n",
      "1/10 = 0.100000\n"
     ]
    }
   ],
   "source": [
    "# Loop from 2 to 10\n",
    "for i in range(2, 11):\n",
    "    decimal_value = 1 / i\n",
    "    print(f\"1/{i} = {decimal_value:.6f}\")\n",
    "\n",
    "    "
   ]
  },
  {
   "cell_type": "code",
   "execution_count": 3,
   "id": "b94b7341",
   "metadata": {},
   "outputs": [
    {
     "name": "stdout",
     "output_type": "stream",
     "text": [
      "Enter the first number: 30\n",
      "Enter the second number: 40\n",
      "Enter the third number: 50\n",
      "The biggest number among 30.0, 40.0, and 50.0 is 50.0.\n"
     ]
    }
   ],
   "source": [
    "# Function to find the biggest number among three numbers\n",
    "def find_biggest_number(a, b, c):\n",
    "    if a >= b and a >= c:\n",
    "        return a\n",
    "    elif b >= a and b >= c:\n",
    "        return b\n",
    "    else:\n",
    "        return c\n",
    "\n",
    "# Reading three numbers from the keyboard\n",
    "try:\n",
    "    num1 = float(input(\"Enter the first number: \"))\n",
    "    num2 = float(input(\"Enter the second number: \"))\n",
    "    num3 = float(input(\"Enter the third number: \"))\n",
    "    \n",
    "    biggest_number = find_biggest_number(num1, num2, num3)\n",
    "    print(f\"The biggest number among {num1}, {num2}, and {num3} is {biggest_number}.\")\n",
    "except ValueError:\n",
    "    print(\"Please enter valid numbers.\")\n"
   ]
  },
  {
   "cell_type": "code",
   "execution_count": 4,
   "id": "5144bf0c",
   "metadata": {},
   "outputs": [
    {
     "name": "stdout",
     "output_type": "stream",
     "text": [
      "Enter your age: 20\n",
      "You are eligible for voting.\n"
     ]
    }
   ],
   "source": [
    "# Function to check voting eligibility\n",
    "def check_voting_eligibility(age):\n",
    "    if age >= 18:\n",
    "        return \"eligible for voting.\"\n",
    "    else:\n",
    "        return \"not eligible for voting.\"\n",
    "\n",
    "# Reading the person's age from the keyboard\n",
    "try:\n",
    "    age = int(input(\"Enter your age: \"))\n",
    "    result = check_voting_eligibility(age)\n",
    "    print(f\"You are {result}\")\n",
    "except ValueError:\n",
    "    print(\"Please enter a valid age.\")\n"
   ]
  },
  {
   "cell_type": "code",
   "execution_count": 5,
   "id": "67cdd22d",
   "metadata": {},
   "outputs": [
    {
     "name": "stdout",
     "output_type": "stream",
     "text": [
      "Random Numbers: [37, 15, 33, 7, 35, 48, 77, 100, 74, 21]\n",
      "Sum of Random Numbers: 447\n"
     ]
    }
   ],
   "source": [
    "import random\n",
    "\n",
    "# Function to generate 10 random numbers and calculate their sum\n",
    "def generate_random_numbers_and_sum():\n",
    "    random_numbers = [random.randint(1, 100) for _ in range(10)]\n",
    "    total_sum = sum(random_numbers)\n",
    "    return random_numbers, total_sum\n",
    "\n",
    "# Generate random numbers and calculate the sum\n",
    "numbers, total = generate_random_numbers_and_sum()\n",
    "\n",
    "# Print the random numbers and their sum\n",
    "print(\"Random Numbers:\", numbers)\n",
    "print(\"Sum of Random Numbers:\", total)\n"
   ]
  },
  {
   "cell_type": "code",
   "execution_count": 6,
   "id": "b75db5bd",
   "metadata": {},
   "outputs": [
    {
     "name": "stdout",
     "output_type": "stream",
     "text": [
      "The sum of the numbers is: 150\n",
      "The average of the numbers is: 30.00\n"
     ]
    }
   ],
   "source": [
    "# Function to calculate sum and average of a list of numbers\n",
    "def calculate_sum_and_average(numbers):\n",
    "    total_sum = sum(numbers)\n",
    "    average = total_sum / len(numbers) if numbers else 0\n",
    "    return total_sum, average\n",
    "\n",
    "# Example list of numbers\n",
    "numbers = [10, 20, 30, 40, 50]\n",
    "\n",
    "# Calculating sum and average\n",
    "total, avg = calculate_sum_and_average(numbers)\n",
    "\n",
    "# Printing the results\n",
    "print(f\"The sum of the numbers is: {total}\")\n",
    "print(f\"The average of the numbers is: {avg:.2f}\")\n"
   ]
  },
  {
   "cell_type": "code",
   "execution_count": 7,
   "id": "103ad270",
   "metadata": {},
   "outputs": [
    {
     "name": "stdout",
     "output_type": "stream",
     "text": [
      "50\n",
      "40\n",
      "30\n",
      "20\n",
      "10\n"
     ]
    }
   ],
   "source": [
    "# Function to reverse and display the elements of a list\n",
    "def display_reverse_list(lst):\n",
    "    reversed_list = lst[::-1]\n",
    "    for element in reversed_list:\n",
    "        print(element)\n",
    "\n",
    "# Example list\n",
    "numbers = [10, 20, 30, 40, 50]\n",
    "\n",
    "# Displaying elements in reverse order\n",
    "display_reverse_list(numbers)\n"
   ]
  },
  {
   "cell_type": "code",
   "execution_count": 8,
   "id": "cb8e60af",
   "metadata": {},
   "outputs": [
    {
     "name": "stdout",
     "output_type": "stream",
     "text": [
      "The minimum element in the list is: 10\n",
      "The maximum element in the list is: 50\n"
     ]
    }
   ],
   "source": [
    "# Function to find and return the minimum and maximum elements of a list\n",
    "def find_min_max(lst):\n",
    "    if not lst:\n",
    "        return None, None  # Return None if the list is empty\n",
    "    min_element = min(lst)\n",
    "    max_element = max(lst)\n",
    "    return min_element, max_element\n",
    "\n",
    "# Example list\n",
    "numbers = [10, 20, 30, 40, 50]\n",
    "\n",
    "# Finding the minimum and maximum elements\n",
    "min_element, max_element = find_min_max(numbers)\n",
    "\n",
    "# Displaying the results\n",
    "print(f\"The minimum element in the list is: {min_element}\")\n",
    "print(f\"The maximum element in the list is: {max_element}\")\n"
   ]
  },
  {
   "cell_type": "code",
   "execution_count": 9,
   "id": "663a3cb9",
   "metadata": {},
   "outputs": [
    {
     "name": "stdout",
     "output_type": "stream",
     "text": [
      "Enter a string: hala madrid\n",
      "\"hala madrid\" is not a palindrome.\n"
     ]
    }
   ],
   "source": [
    "# Function to check if a given string is a palindrome\n",
    "def is_palindrome(s):\n",
    "    # Remove any spaces and convert the string to lowercase for uniformity\n",
    "    cleaned_string = ''.join(s.split()).lower()\n",
    "    # Check if the cleaned string is equal to its reverse\n",
    "    return cleaned_string == cleaned_string[::-1]\n",
    "\n",
    "# Reading a string from the keyboard\n",
    "input_string = input(\"Enter a string: \")\n",
    "\n",
    "# Checking if the string is a palindrome\n",
    "if is_palindrome(input_string):\n",
    "    print(f'\"{input_string}\" is a palindrome.')\n",
    "else:\n",
    "    print(f'\"{input_string}\" is not a palindrome.')\n"
   ]
  },
  {
   "cell_type": "code",
   "execution_count": 10,
   "id": "3e8b42dc",
   "metadata": {},
   "outputs": [
    {
     "name": "stdout",
     "output_type": "stream",
     "text": [
      "Enter a line of text: India is great\n",
      "Number of characters: 14\n",
      "Number of vowels: 6\n",
      "Number of blank spaces: 2\n"
     ]
    }
   ],
   "source": [
    "# Function to count characters, vowels, and blank spaces in a string\n",
    "def count_details(text):\n",
    "    num_characters = len(text)\n",
    "    vowels = 'aeiouAEIOU'\n",
    "    num_vowels = sum(1 for char in text if char in vowels)\n",
    "    num_spaces = text.count(' ')\n",
    "    \n",
    "    return num_characters, num_vowels, num_spaces\n",
    "\n",
    "# Reading a line of text from the keyboard\n",
    "input_text = input(\"Enter a line of text: \")\n",
    "\n",
    "# Calculating the number of characters, vowels, and blank spaces\n",
    "characters, vowels, spaces = count_details(input_text)\n",
    "\n",
    "# Displaying the results\n",
    "print(f\"Number of characters: {characters}\")\n",
    "print(f\"Number of vowels: {vowels}\")\n",
    "print(f\"Number of blank spaces: {spaces}\")\n"
   ]
  },
  {
   "cell_type": "code",
   "execution_count": 11,
   "id": "d263053a",
   "metadata": {},
   "outputs": [
    {
     "name": "stdout",
     "output_type": "stream",
     "text": [
      "The largest number among 10, 20, and 15 is 20.\n"
     ]
    }
   ],
   "source": [
    "def max_of_three(a, b, c):\n",
    "    # Using the max() function to find the largest number\n",
    "    return max(a, b, c)\n",
    "\n",
    "# Example usage\n",
    "num1 = 10\n",
    "num2 = 20\n",
    "num3 = 15\n",
    "\n",
    "largest = max_of_three(num1, num2, num3)\n",
    "print(f\"The largest number among {num1}, {num2}, and {num3} is {largest}.\")\n"
   ]
  },
  {
   "cell_type": "code",
   "execution_count": 12,
   "id": "1929137a",
   "metadata": {},
   "outputs": [
    {
     "name": "stdout",
     "output_type": "stream",
     "text": [
      "Numbers between 1000 and 2000 that are divisible by 7 but not multiples of 5:\n",
      "1001\n",
      "1008\n",
      "1022\n",
      "1029\n",
      "1036\n",
      "1043\n",
      "1057\n",
      "1064\n",
      "1071\n",
      "1078\n",
      "1092\n",
      "1099\n",
      "1106\n",
      "1113\n",
      "1127\n",
      "1134\n",
      "1141\n",
      "1148\n",
      "1162\n",
      "1169\n",
      "1176\n",
      "1183\n",
      "1197\n",
      "1204\n",
      "1211\n",
      "1218\n",
      "1232\n",
      "1239\n",
      "1246\n",
      "1253\n",
      "1267\n",
      "1274\n",
      "1281\n",
      "1288\n",
      "1302\n",
      "1309\n",
      "1316\n",
      "1323\n",
      "1337\n",
      "1344\n",
      "1351\n",
      "1358\n",
      "1372\n",
      "1379\n",
      "1386\n",
      "1393\n",
      "1407\n",
      "1414\n",
      "1421\n",
      "1428\n",
      "1442\n",
      "1449\n",
      "1456\n",
      "1463\n",
      "1477\n",
      "1484\n",
      "1491\n",
      "1498\n",
      "1512\n",
      "1519\n",
      "1526\n",
      "1533\n",
      "1547\n",
      "1554\n",
      "1561\n",
      "1568\n",
      "1582\n",
      "1589\n",
      "1596\n",
      "1603\n",
      "1617\n",
      "1624\n",
      "1631\n",
      "1638\n",
      "1652\n",
      "1659\n",
      "1666\n",
      "1673\n",
      "1687\n",
      "1694\n",
      "1701\n",
      "1708\n",
      "1722\n",
      "1729\n",
      "1736\n",
      "1743\n",
      "1757\n",
      "1764\n",
      "1771\n",
      "1778\n",
      "1792\n",
      "1799\n",
      "1806\n",
      "1813\n",
      "1827\n",
      "1834\n",
      "1841\n",
      "1848\n",
      "1862\n",
      "1869\n",
      "1876\n",
      "1883\n",
      "1897\n",
      "1904\n",
      "1911\n",
      "1918\n",
      "1932\n",
      "1939\n",
      "1946\n",
      "1953\n",
      "1967\n",
      "1974\n",
      "1981\n",
      "1988\n"
     ]
    }
   ],
   "source": [
    "def find_numbers():\n",
    "    # List to store numbers that meet the criteria\n",
    "    result = []\n",
    "    \n",
    "    # Loop through the range from 1000 to 2000 (inclusive)\n",
    "    for number in range(1000, 2001):\n",
    "        if number % 7 == 0 and number % 5 != 0:\n",
    "            result.append(number)\n",
    "    \n",
    "    return result\n",
    "\n",
    "# Call the function and get the list of numbers\n",
    "numbers = find_numbers()\n",
    "\n",
    "# Display the results\n",
    "print(\"Numbers between 1000 and 2000 that are divisible by 7 but not multiples of 5:\")\n",
    "for number in numbers:\n",
    "    print(number)\n"
   ]
  },
  {
   "cell_type": "code",
   "execution_count": 13,
   "id": "a25adf24",
   "metadata": {},
   "outputs": [
    {
     "name": "stdout",
     "output_type": "stream",
     "text": [
      "The simple interest is: $150.00\n"
     ]
    }
   ],
   "source": [
    "def calculate_simple_interest(principal, rate, time):\n",
    "    \"\"\"\n",
    "    Calculate simple interest.\n",
    "    \n",
    "    Parameters:\n",
    "    principal (float): The principal amount.\n",
    "    rate (float): The annual interest rate (in percentage).\n",
    "    time (float): The time period in years.\n",
    "    \n",
    "    Returns:\n",
    "    float: The calculated simple interest.\n",
    "    \"\"\"\n",
    "    # Calculate simple interest\n",
    "    simple_interest = (principal * rate * time) / 100\n",
    "    return simple_interest\n",
    "\n",
    "# Example usage\n",
    "principal_amount = 1000  # Principal amount in dollars\n",
    "annual_rate = 5          # Annual interest rate in percent\n",
    "time_years = 3           # Time period in years\n",
    "\n",
    "# Calculate the simple interest\n",
    "interest = calculate_simple_interest(principal_amount, annual_rate, time_years)\n",
    "\n",
    "# Display the result\n",
    "print(f\"The simple interest is: ${interest:.2f}\")\n"
   ]
  },
  {
   "cell_type": "code",
   "execution_count": 15,
   "id": "7ce4e7cb",
   "metadata": {},
   "outputs": [
    {
     "name": "stdout",
     "output_type": "stream",
     "text": [
      "The distance between the points (1, 2) and (4, 6) is 5.00\n"
     ]
    }
   ],
   "source": [
    "import math\n",
    "\n",
    "def calculate_distance(x1, y1, x2, y2):\n",
    "    \"\"\"\n",
    "    Calculate the distance between two points (x1, y1) and (x2, y2).\n",
    "    \n",
    "    Parameters:\n",
    "    x1 (float): The x-coordinate of the first point.\n",
    "    y1 (float): The y-coordinate of the first point.\n",
    "    x2 (float): The x-coordinate of the second point.\n",
    "    y2 (float): The y-coordinate of the second point.\n",
    "    \n",
    "    Returns:\n",
    "    float: The distance between the two points.\n",
    "    \"\"\"\n",
    "    # Calculate the differences in coordinates\n",
    "    delta_x = x2 - x1\n",
    "    delta_y = y2 - y1\n",
    "    \n",
    "    # Calculate the distance using the distance formula\n",
    "    distance = math.sqrt(delta_x**2 + delta_y**2)\n",
    "    return distance\n",
    "\n",
    "# Example usage\n",
    "x1, y1 = 1, 2\n",
    "x2, y2 = 4, 6\n",
    "\n",
    "# Calculate the distance between the points\n",
    "dist = calculate_distance(x1, y1, x2, y2)\n",
    "\n",
    "# Display the result\n",
    "print(f\"The distance between the points ({x1}, {y1}) and ({x2}, {y2}) is {dist:.2f}\")\n"
   ]
  },
  {
   "cell_type": "code",
   "execution_count": 16,
   "id": "cb73bafc",
   "metadata": {},
   "outputs": [
    {
     "name": "stdout",
     "output_type": "stream",
     "text": [
      "The roots of the equation are: 2.0 and 1.0\n"
     ]
    }
   ],
   "source": [
    "import math\n",
    "\n",
    "def find_quadratic_roots(a, b, c):\n",
    "    \"\"\"\n",
    "    Find the roots of a quadratic equation ax^2 + bx + c = 0.\n",
    "\n",
    "    Parameters:\n",
    "    a (float): The coefficient of x^2.\n",
    "    b (float): The coefficient of x.\n",
    "    c (float): The constant term.\n",
    "\n",
    "    Returns:\n",
    "    tuple: A tuple containing the roots of the quadratic equation.\n",
    "    \"\"\"\n",
    "    discriminant = b**2 - 4*a*c\n",
    "    \n",
    "    if discriminant > 0:\n",
    "        # Two distinct real roots\n",
    "        root1 = (-b + math.sqrt(discriminant)) / (2*a)\n",
    "        root2 = (-b - math.sqrt(discriminant)) / (2*a)\n",
    "        return (root1, root2)\n",
    "    elif discriminant == 0:\n",
    "        # One real root\n",
    "        root = -b / (2*a)\n",
    "        return (root,)\n",
    "    else:\n",
    "        # Two complex roots\n",
    "        real_part = -b / (2*a)\n",
    "        imaginary_part = math.sqrt(-discriminant) / (2*a)\n",
    "        root1 = complex(real_part, imaginary_part)\n",
    "        root2 = complex(real_part, -imaginary_part)\n",
    "        return (root1, root2)\n",
    "\n",
    "# Example usage\n",
    "a = 1\n",
    "b = -3\n",
    "c = 2\n",
    "\n",
    "# Find the roots of the quadratic equation\n",
    "roots = find_quadratic_roots(a, b, c)\n",
    "\n",
    "# Display the results\n",
    "if len(roots) == 2:\n",
    "    print(f\"The roots of the equation are: {roots[0]} and {roots[1]}\")\n",
    "elif len(roots) == 1:\n",
    "    print(f\"The root of the equation is: {roots[0]}\")\n",
    "else:\n",
    "    print(f\"The roots of the equation are: {roots[0]} and {roots[1]}\")\n"
   ]
  },
  {
   "cell_type": "code",
   "execution_count": null,
   "id": "f69fc961",
   "metadata": {},
   "outputs": [],
   "source": []
  }
 ],
 "metadata": {
  "kernelspec": {
   "display_name": "Python 3 (ipykernel)",
   "language": "python",
   "name": "python3"
  },
  "language_info": {
   "codemirror_mode": {
    "name": "ipython",
    "version": 3
   },
   "file_extension": ".py",
   "mimetype": "text/x-python",
   "name": "python",
   "nbconvert_exporter": "python",
   "pygments_lexer": "ipython3",
   "version": "3.11.5"
  }
 },
 "nbformat": 4,
 "nbformat_minor": 5
}
